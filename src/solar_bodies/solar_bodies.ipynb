{
 "cells": [
  {
   "cell_type": "code",
   "execution_count": null,
   "metadata": {},
   "outputs": [],
   "source": [
    "# Copyright 2022 Piotr Szukalski\n",
    "\n",
    "# Licensed under the Apache License, Version 2.0 (the \"License\");\n",
    "# you may not use this file except in compliance with the License.\n",
    "# You may obtain a copy of the License at\n",
    "#\n",
    "#     http://www.apache.org/licenses/LICENSE-2.0\n",
    "#\n",
    "# Unless required by applicable law or agreed to in writing, software\n",
    "# distributed under the License is distributed on an \"AS IS\" BASIS,\n",
    "# WITHOUT WARRANTIES OR CONDITIONS OF ANY KIND, either express or implied.\n",
    "# See the License for the specific language governing permissions and\n",
    "# limitations under the License."
   ]
  },
  {
   "cell_type": "markdown",
   "metadata": {},
   "source": [
    "## Visualizing Solar Bodies Movement\n",
    "\n",
    "Code developed for [It's There Blog](https://blog.itsthere.academy/) - \"I am an astronomer!\"\n",
    "\n",
    "1. Check the requirements.txt for packages\n",
    "2. Download 2 files - so called 'kernels' from SPICE website. Place them in 'data' directory\n",
    "    1. de430.bsp - planets ephemerids from [here](https://naif.jpl.nasa.gov/pub/naif/generic_kernels/spk/planets/)\n",
    "    2. naif0012.tls - leap seconds from [here](https://naif.jpl.nasa.gov/pub/naif/generic_kernels/lsk/)"
   ]
  },
  {
   "cell_type": "code",
   "execution_count": null,
   "metadata": {},
   "outputs": [],
   "source": [
    "import spiceypy as spice\n",
    "import numpy as np\n",
    "import plotly.graph_objects as go\n",
    "from datetime import datetime, UTC\n",
    "import pandas as pd\n",
    "import plotly.express as px"
   ]
  },
  {
   "cell_type": "code",
   "execution_count": null,
   "metadata": {},
   "outputs": [],
   "source": [
    "METAKR = 'getsta.tm'\n",
    "\n",
    "spice.tkvrsn('TOOLKIT')\n",
    "spice.unload(METAKR)\n",
    "\n",
    "# The crucial bit - load the kernels (data files)\n",
    "spice.furnsh(METAKR)\n",
    "\n",
    "\n",
    "def gen_pos(object, observer, ref, ts):\n",
    "    \"\"\"\n",
    "    Generate x, y, z coordinates (ephemerids) for given time frame.\n",
    "\n",
    "    :param object: the body to generate the ephemerids for\n",
    "    :param observer: object observing the movement, or relative to what body the object moves?\n",
    "    :param ref: reference frame, or coordinates system (e.g. \"ECLIPJ2000\" for the ecliptic)\n",
    "    :param ts: timestamp\n",
    "\n",
    "    :return: ndarray of (x, y, z) coodrindates\n",
    "    \"\"\"\n",
    "\n",
    "    ts_bt = spice.datetime2et(ts)   \n",
    "    # spkpos returns two vectors - position and velocity. We care the position only for now.\n",
    "    (pos_t, _) = spice.spkpos(object, ts_bt, ref, 'NONE', observer)\n",
    "    \n",
    "    return pos_t\n"
   ]
  },
  {
   "cell_type": "code",
   "execution_count": null,
   "metadata": {},
   "outputs": [],
   "source": [
    "PLANET_TO_SPICE = {\n",
    "    'SUN': 'SUN',\n",
    "    'MERCURY': 'MERCURY',\n",
    "    'VENUS': 'VENUS',\n",
    "    'EARTH': 'EARTH',\n",
    "    'MARS': 'MARS BARYCENTER',\n",
    "    'JUPITER': 'JUPITER BARYCENTER',\n",
    "    'SATURN': 'SATURN BARYCENTER',\n",
    "    'URANUS': 'URANUS BARYCENTER',\n",
    "    'NEPTUNE': 'NEPTUNE BARYCENTER',\n",
    "    'PLUTO': 'PLUTO BARYCENTER'\n",
    "}\n",
    "\n",
    "planet_radii_km = {\n",
    "    'SUN': 696340,\n",
    "    'MERCURY': 2439.7,\n",
    "    'VENUS': 6051.8,\n",
    "    'EARTH': 6371.0,\n",
    "    'MARS': 3389.5,\n",
    "    'JUPITER': 69911,\n",
    "    'SATURN': 58232,\n",
    "    'URANUS': 25362,\n",
    "    'NEPTUNE': 24622,\n",
    "    'PLUTO': 1188.3\n",
    "}\n",
    "\n",
    "now = datetime.now(UTC)\n",
    "\n",
    "start_date = now - pd.DateOffset(months=6)\n",
    "end_date = now + pd.DateOffset(months=6)\n",
    "date_range = pd.date_range(start=start_date, end=end_date, freq='D')\n",
    "\n",
    "bodies_pos = []\n",
    "\n",
    "for body, body_spice in PLANET_TO_SPICE.items():\n",
    "    for ts in date_range:\n",
    "        ts_midnight = ts.replace(hour=0, minute=0, second=0, microsecond=0)\n",
    "        pos = gen_pos(body_spice, 'SUN', 'ECLIPJ2000', ts_midnight)\n",
    "        bodies_pos.append({'body': body, 'date': ts_midnight.date(), 'x': pos[0], 'y': pos[1], 'z': pos[2]})\n",
    "\n",
    "bodies_df = pd.DataFrame(bodies_pos)\n",
    "planet_radii_df = pd.DataFrame(list(planet_radii_km.items()), columns=['body', 'radius'])\n",
    "bodies_df = pd.merge(bodies_df, planet_radii_df, on='body')\n",
    "\n",
    "bodies_df"
   ]
  },
  {
   "cell_type": "code",
   "execution_count": null,
   "metadata": {},
   "outputs": [],
   "source": [
    "def plot_solar_bodies(bodies_df):\n",
    "    # Calculate the range for the axes\n",
    "    range_val = np.max(np.abs(bodies_df[['x', 'y']])) * 1.1\n",
    "\n",
    "    # Create the color dictionary\n",
    "    color_dict = {row['body']: ('orange' if row['body'] == 'SUN' else 'black') for index, row in bodies_df.iterrows()}\n",
    "\n",
    "    # Create the scatter plot\n",
    "    fig = px.scatter(bodies_df, x='x', y='y', text='body', \n",
    "                     color='body',\n",
    "                     color_discrete_map=color_dict,\n",
    "                     animation_frame=\"date\", animation_group=\"body\")\n",
    "\n",
    "    # Update marker properties\n",
    "    fig.update_traces(marker=dict(\n",
    "        size=bodies_df['body'].apply(lambda x: 7 if x == 'SUN' else 1)\n",
    "    ))\n",
    "\n",
    "    # Update layout for background color, grid lines, and aspect ratio\n",
    "    fig.update_layout(\n",
    "        # plot_bgcolor='black',\n",
    "        # paper_bgcolor='black',\n",
    "        xaxis=dict(\n",
    "            gridcolor='grey',\n",
    "            gridwidth=1,\n",
    "            griddash='dash'\n",
    "        ),\n",
    "        yaxis=dict(\n",
    "            gridcolor='grey',\n",
    "            gridwidth=1,\n",
    "            griddash='dash',\n",
    "            scaleanchor=\"x\",\n",
    "            scaleratio=1\n",
    "        ),\n",
    "        width=800,\n",
    "        height=800,\n",
    "        showlegend=False\n",
    "    )\n",
    "\n",
    "    # Update axes range\n",
    "    fig.update_xaxes(range=[-range_val, range_val])\n",
    "    fig.update_yaxes(range=[-range_val, range_val])\n",
    "\n",
    "    fig.show()\n",
    "\n",
    "    return fig"
   ]
  },
  {
   "cell_type": "markdown",
   "metadata": {},
   "source": [
    "### All planets"
   ]
  },
  {
   "cell_type": "code",
   "execution_count": null,
   "metadata": {},
   "outputs": [],
   "source": [
    "all_planets_fig = plot_solar_bodies(bodies_df)\n",
    "#all_planets_fig.write_html('/tmp/all_planets.html', include_plotlyjs='cdn', include_mathjax='cdn', full_html=False)"
   ]
  },
  {
   "cell_type": "markdown",
   "metadata": {},
   "source": [
    "### Inner Solar System"
   ]
  },
  {
   "cell_type": "code",
   "execution_count": null,
   "metadata": {},
   "outputs": [],
   "source": [
    "inner_solar_fig = plot_solar_bodies(bodies_df[bodies_df['body'].isin(['SUN', 'MERCURY', 'VENUS', 'EARTH', 'MARS'])])\n",
    "#inner_solar_fig.write_html('/tmp/inner_solar.html', include_plotlyjs='cdn', include_mathjax='cdn', full_html=False)"
   ]
  },
  {
   "cell_type": "markdown",
   "metadata": {},
   "source": [
    "### Outer Solar System + Sun and Earth"
   ]
  },
  {
   "cell_type": "code",
   "execution_count": null,
   "metadata": {},
   "outputs": [],
   "source": [
    "outer_with_earth_fig = plot_solar_bodies(bodies_df[bodies_df['body'].isin(['SUN', 'EARTH', 'JUPITER', 'SATURN', 'URANUS', 'NEPTUNE', 'PLUTO'])])\n",
    "#outer_with_earth_fig.write_html('/tmp/outer_with_earth.html', include_plotlyjs='cdn', include_mathjax='cdn', full_html=False)"
   ]
  }
 ],
 "metadata": {
  "kernelspec": {
   "display_name": "spice_venv",
   "language": "python",
   "name": "python3"
  },
  "language_info": {
   "codemirror_mode": {
    "name": "ipython",
    "version": 3
   },
   "file_extension": ".py",
   "mimetype": "text/x-python",
   "name": "python",
   "nbconvert_exporter": "python",
   "pygments_lexer": "ipython3",
   "version": "3.12.3"
  }
 },
 "nbformat": 4,
 "nbformat_minor": 2
}
